{
 "cells": [
  {
   "cell_type": "markdown",
   "metadata": {},
   "source": [
    "IIR filters are described by the following equation\n",
    "$$s_{out} = \\sum_{n=0}^M b_ns_{in}(m-n) - \\sum_{n=1}^N a_ns_{out}(m-n)$$\n",
    "\n",
    "and therefore transmittance of IIR filter is\n",
    "$$H(z) = \\frac{\\sum_{n=0}^M b_nz^{-n}}{1+ \\sum_{n=1}^N a_nz^{-n}}$$"
   ]
  },
  {
   "cell_type": "code",
   "execution_count": null,
   "metadata": {
    "collapsed": true
   },
   "outputs": [],
   "source": []
  }
 ],
 "metadata": {
  "kernelspec": {
   "display_name": "Python 3",
   "language": "python",
   "name": "python3"
  },
  "language_info": {
   "codemirror_mode": {
    "name": "ipython",
    "version": 3
   },
   "file_extension": ".py",
   "mimetype": "text/x-python",
   "name": "python",
   "nbconvert_exporter": "python",
   "pygments_lexer": "ipython3",
   "version": "3.6.0"
  }
 },
 "nbformat": 4,
 "nbformat_minor": 2
}
