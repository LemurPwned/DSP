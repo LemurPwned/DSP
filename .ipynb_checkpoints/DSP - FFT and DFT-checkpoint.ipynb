{
 "cells": [
  {
   "cell_type": "markdown",
   "metadata": {
    "deletable": true,
    "editable": true
   },
   "source": [
    "Investigating DFT and different aproaches to sampling.\n",
    "FFT overview"
   ]
  },
  {
   "cell_type": "code",
   "execution_count": 1,
   "metadata": {
    "collapsed": true,
    "deletable": true,
    "editable": true
   },
   "outputs": [],
   "source": [
    "import numpy as np\n",
    "import matplotlib.pyplot as plt"
   ]
  },
  {
   "cell_type": "markdown",
   "metadata": {},
   "source": [
    "From previous lab, we can use our definition of DFT. Follow carefully, however, firstly try to investigate on your own.\n",
    "\n",
    "I have introduced explicit notation and copy-paste approach so that you can easily compare results with comments\n",
    "\n",
    "Towards the end of this notebook, I put more explanatory comments"
   ]
  },
  {
   "cell_type": "code",
   "execution_count": 2,
   "metadata": {
    "collapsed": false,
    "deletable": true,
    "editable": true
   },
   "outputs": [],
   "source": [
    "def DFT(N):\n",
    "    n = np.array([[x for x in range(N)]])\n",
    "    k = n\n",
    "    kn = np.multiply(k.transpose(),n)\n",
    "    w = np.exp(-2*np.pi*1j/N)\n",
    "    W = w**kn\n",
    "    return W"
   ]
  },
  {
   "cell_type": "markdown",
   "metadata": {
    "deletable": true,
    "editable": true
   },
   "source": [
    "Sample sine function of 4 s period with sampling frequency of f1 = 1 Hz , f2 = 2 Hz and f3 = 10 Hz"
   ]
  },
  {
   "cell_type": "code",
   "execution_count": 43,
   "metadata": {
    "collapsed": false,
    "deletable": true,
    "editable": true
   },
   "outputs": [
    {
     "name": "stdout",
     "output_type": "stream",
     "text": [
      "[ 0.  1.  2.  3.] [ 0.   0.5  1.   1.5  2.   2.5  3.   3.5] [ 0.   0.1  0.2  0.3  0.4  0.5  0.6  0.7  0.8  0.9  1.   1.1  1.2  1.3  1.4\n",
      "  1.5  1.6  1.7  1.8  1.9  2.   2.1  2.2  2.3  2.4  2.5  2.6  2.7  2.8  2.9\n",
      "  3.   3.1  3.2  3.3  3.4  3.5  3.6  3.7  3.8  3.9]\n"
     ]
    }
   ],
   "source": [
    "x1 = np.linspace(0,4,4,endpoint=False) #last point is not included because \"it belongs to the next period\"\n",
    "x2 = np.linspace(0,4,8,endpoint=False)\n",
    "x3 = np.linspace(0,4,40,endpoint=False)\n",
    "print(x1, x2, x3)\n",
    "y1 = np.array(np.sin(2*np.pi*0.25*x1))\n",
    "y2 = np.array(np.sin(2*np.pi*0.25*x2))\n",
    "y3 = np.array(np.sin(2*np.pi*0.25*x3))"
   ]
  },
  {
   "cell_type": "code",
   "execution_count": 4,
   "metadata": {
    "collapsed": false,
    "deletable": true,
    "editable": true
   },
   "outputs": [
    {
     "data": {
      "image/png": "[encoded data removed]",
      "text/plain": [
       "<matplotlib.figure.Figure at 0x6a0f870>"
      ]
     },
     "metadata": {},
     "output_type": "display_data"
    }
   ],
   "source": [
    "plt.subplot(3,1,1)\n",
    "plt.plot(y1, 'g')\n",
    "plt.subplot(3,1,2)\n",
    "plt.plot(y2, 'r')\n",
    "plt.subplot(3,1,3)\n",
    "plt.plot(y3, 'y')\n",
    "plt.show()"
   ]
  },
  {
   "cell_type": "code",
   "execution_count": 31,
   "metadata": {
    "collapsed": false,
    "deletable": true,
    "editable": true
   },
   "outputs": [
    {
     "name": "stdout",
     "output_type": "stream",
     "text": [
      "DFT for 4 samples \n",
      " [[ 0.+0.j  0.-2.j  0.+0.j -0.+2.j]]\n",
      "DFT for 8 samples \n",
      " [[-0.+0.j  0.-4.j -0.+0.j  0.+0.j  0.+0.j  0.+0.j  0.+0.j -0.+4.j]]\n",
      "DFT for 40 samples \n",
      " [[-0. +0.j -0.-20.j  0. -0.j  0. +0.j  0. +0.j  0. -0.j  0. -0.j -0. -0.j\n",
      "   0. +0.j -0. +0.j  0. -0.j -0. -0.j  0. -0.j -0. -0.j -0. -0.j  0. -0.j\n",
      "  -0. -0.j  0. -0.j  0. +0.j  0. -0.j  0. -0.j  0. -0.j  0. -0.j -0. -0.j\n",
      "  -0. +0.j  0. -0.j -0. -0.j -0. -0.j -0. +0.j -0. -0.j -0. +0.j -0. -0.j\n",
      "   0. +0.j -0. -0.j  0. +0.j  0. +0.j  0. -0.j  0. +0.j  0. +0.j -0.+20.j]]\n"
     ]
    }
   ],
   "source": [
    "y1 = np.array([np.sin(2*np.pi*0.25*x1)])\n",
    "y2 = np.array([np.sin(2*np.pi*0.25*x2)])\n",
    "y3 = np.array([np.sin(2*np.pi*0.25*x3)])\n",
    "\n",
    "W1 = DFT(4)\n",
    "W2 = DFT(8)\n",
    "W3 = DFT(40)\n",
    "\n",
    "s_h1 = np.dot(W1,y1.transpose())\n",
    "s_h2 = np.dot(W2,y2.transpose())\n",
    "s_h3 = np.dot(W3,y3.transpose())\n",
    "print(\"DFT for 4 samples \\n {}\".format(np.around(s_h1.transpose())))\n",
    "print(\"DFT for 8 samples \\n {}\".format(np.around(s_h2.transpose())))\n",
    "print(\"DFT for 40 samples \\n {}\".format(np.around(s_h3.transpose())))"
   ]
  },
  {
   "cell_type": "code",
   "execution_count": 35,
   "metadata": {
    "collapsed": false,
    "deletable": true,
    "editable": true
   },
   "outputs": [
    {
     "name": "stdout",
     "output_type": "stream",
     "text": [
      "FFT for 4 samples \n",
      "[[ 0.+0.j -0.-2.j  0.+0.j -0.+2.j]]\n",
      "FFT for 8 samples \n",
      "[[ 0.+0.j -0.-4.j  0.-0.j  0.-0.j  0.+0.j  0.-0.j  0.+0.j  0.+4.j]]\n",
      "FFT for 40 samples \n",
      "[[-0. +0.j -0.-20.j  0. +0.j  0. -0.j  0. +0.j  0. -0.j  0. +0.j -0. +0.j\n",
      "   0. +0.j -0. +0.j -0. +0.j  0. -0.j -0. +0.j  0. +0.j -0. +0.j -0. -0.j\n",
      "  -0. -0.j -0. +0.j -0. -0.j  0. +0.j  0. +0.j -0. -0.j -0. +0.j -0. +0.j\n",
      "  -0. +0.j -0. -0.j -0. -0.j  0. -0.j -0. -0.j -0. -0.j -0. -0.j -0. -0.j\n",
      "   0. -0.j  0. -0.j  0. -0.j -0. -0.j  0. -0.j  0. -0.j  0. -0.j  0.+20.j]]\n"
     ]
    }
   ],
   "source": [
    "fft1 = np.fft.fft(y1)\n",
    "fft2 = np.fft.fft(y2)\n",
    "fft3 = np.fft.fft(y3)\n",
    "print(\"FFT for 4 samples \\n{}\".format(np.around(fft1)))\n",
    "print(\"FFT for 8 samples \\n{}\".format(np.around(fft2)))\n",
    "print(\"FFT for 40 samples \\n{}\".format(np.around(fft3)))"
   ]
  },
  {
   "cell_type": "markdown",
   "metadata": {},
   "source": [
    "This is most likely correct - we had the real signal, so we expect our DFT to be complex but revealing some symmetry in respect to the time domain samples. We got -2j and 2j in 4 sample DFT, which implies the correct result, because the amplitude is *even* and argument is *odd*. Recall from basic signal theory that Fourier transform of every real signal fulfills these conditions:"
   ]
  },
  {
   "cell_type": "markdown",
   "metadata": {},
   "source": [
    "##### A(f) = A(-f), where A is the amplitude of f*th* frequency\n",
    "##### Angle(f) = -Angle(-f)\n",
    "##### X(f) = *X*(-f), where *X* is conjugate of X"
   ]
  },
  {
   "cell_type": "markdown",
   "metadata": {},
   "source": [
    "Therefore, we are likely to suspect that in frequency domain, even if the result is higly complex, it would yield this kind of symmetry. \n",
    "Notice that :\n",
    "##### |-2j| = 2 = |2j| which implies even amplitude spectrum\n",
    "##### arg(-2j) = -pi = -arg(2j) which implies odd angular spectrum"
   ]
  },
  {
   "cell_type": "markdown",
   "metadata": {},
   "source": [
    "Now let's declare IDFT. To make things easier - the matrix of IDFT, is constructed analogusly to the matrix of DFT, with the only difference being the conjugate - remember this w^(-kn)? -> now it is w^(kn). But if we approach this more algebraically, then there is a simple way to determine the IDFT matrix. \n",
    "- Standard, simplified expression for DFT is s = W *x* s_hat where s_hat is our frequency domain result and s are the samples in time domain. Then, to receive the expression for IDFT, we have to multiply both sides by inverse of W (left-handedly) i.e. W^(-1) x s = (W^(-1) *x* W ) *x* s_hat -> W^(-1) *x* s = s_hat.\n",
    "- Additional observation is that *W is complex*, therefore we say that the *inverse of W is hermitian* - i.e conjugate of the inverse matrix.\n",
    "- If we recall that *W is also symmetric*, which means that in real case we can only transpose it, instead of calculating the inverse, then we can easily see that *W^(-1), which is IDFT matrix, is just the conjugate transposition of W*. That operation is explicitly shown below. "
   ]
  },
  {
   "cell_type": "code",
   "execution_count": 36,
   "metadata": {
    "collapsed": false,
    "deletable": true,
    "editable": true
   },
   "outputs": [
    {
     "name": "stdout",
     "output_type": "stream",
     "text": [
      "[[ 1.+0.j  1.+0.j  1.+0.j  1.+0.j]\n",
      " [ 1.+0.j  0.-1.j -1.-0.j -0.+1.j]\n",
      " [ 1.+0.j -1.-0.j  1.+0.j -1.-0.j]\n",
      " [ 1.+0.j -0.+1.j -1.-0.j  0.-1.j]]\n",
      "[[ 1.-0.j  1.-0.j  1.-0.j  1.-0.j]\n",
      " [ 1.-0.j  0.+1.j -1.+0.j -0.-1.j]\n",
      " [ 1.-0.j -1.+0.j  1.-0.j -1.+0.j]\n",
      " [ 1.-0.j -0.-1.j -1.+0.j  0.+1.j]]\n"
     ]
    }
   ],
   "source": [
    "def IDFT(W):\n",
    "    W = W.transpose()\n",
    "    W = np.conj(W)\n",
    "    return W\n",
    "print(np.around(W1))\n",
    "print(IDFT(np.around(W1)))"
   ]
  },
  {
   "cell_type": "code",
   "execution_count": 37,
   "metadata": {
    "collapsed": false
   },
   "outputs": [
    {
     "name": "stdout",
     "output_type": "stream",
     "text": [
      "(4, 1)\n",
      "IDFT for 4 samples \n",
      " [[ 0.+0.j  1.+0.j  0.+0.j -1.+0.j]]\n",
      "IDFT for 8 samples \n",
      " [[ 0.0000+0.j  0.7075+0.j  1.0000+0.j  0.7075+0.j  0.0000+0.j -0.7075+0.j\n",
      "  -1.0000+0.j -0.7075+0.j]]\n",
      "IDFT for 40 samples \n",
      " [[ 0.00000+0.j  0.15650+0.j  0.30900+0.j  0.45400+0.j  0.58775+0.j\n",
      "   0.70700+0.j  0.80900+0.j  0.89100+0.j  0.95100+0.j  0.98775+0.j\n",
      "   1.00000+0.j  0.98775+0.j  0.95100+0.j  0.89100+0.j  0.80900+0.j\n",
      "   0.70700+0.j  0.58775+0.j  0.45400+0.j  0.30900+0.j  0.15650+0.j\n",
      "   0.00000+0.j -0.15650+0.j -0.30900+0.j -0.45400+0.j -0.58775+0.j\n",
      "  -0.70700+0.j -0.80900+0.j -0.89100+0.j -0.95100+0.j -0.98775+0.j\n",
      "  -1.00000+0.j -0.98775+0.j -0.95100+0.j -0.89100+0.j -0.80900+0.j\n",
      "  -0.70700+0.j -0.58775+0.j -0.45400+0.j -0.30900+0.j -0.15650+0.j]]\n"
     ]
    }
   ],
   "source": [
    "IW1 = IDFT(W1)\n",
    "IW2 = IDFT(W2)\n",
    "IW3 = IDFT(W3)\n",
    "print(s_h1.shape)\n",
    "s1 = np.around(np.dot(IW1,s_h1), decimals=2)*1/4\n",
    "s2 = np.around(np.dot(IW2,s_h2), decimals=2)*1/8\n",
    "s3 = np.around(np.dot(IW3,s_h3), decimals=2)*1/40\n",
    "print(\"IDFT for 4 samples \\n {}\".format(s1.transpose()))\n",
    "print(\"IDFT for 8 samples \\n {}\".format(s2.transpose()))\n",
    "print(\"IDFT for 40 samples \\n {}\".format(s3.transpose()))"
   ]
  },
  {
   "cell_type": "code",
   "execution_count": 38,
   "metadata": {
    "collapsed": false,
    "scrolled": false
   },
   "outputs": [
    {
     "name": "stdout",
     "output_type": "stream",
     "text": [
      "IFFT for 4 samples \n",
      "[[ 0.+0.j  1.+0.j  0.+0.j -1.+0.j]]\n",
      "IFFT for 8 samples \n",
      "[[ 0.00+0.j  0.71+0.j  1.00-0.j  0.71-0.j  0.00+0.j -0.71-0.j -1.00+0.j\n",
      "  -0.71+0.j]]\n",
      "IFFT for 40 samples \n",
      "[[-0.00-0.j  0.16+0.j  0.31+0.j  0.45+0.j  0.59-0.j  0.71+0.j  0.81+0.j\n",
      "   0.89+0.j  0.95-0.j  0.99-0.j  1.00-0.j  0.99+0.j  0.95-0.j  0.89-0.j\n",
      "   0.81-0.j  0.71+0.j  0.59-0.j  0.45-0.j  0.31-0.j  0.16-0.j  0.00+0.j\n",
      "  -0.16-0.j -0.31-0.j -0.45-0.j -0.59+0.j -0.71-0.j -0.81+0.j -0.89-0.j\n",
      "  -0.95+0.j -0.99-0.j -1.00-0.j -0.99-0.j -0.95+0.j -0.89+0.j -0.81+0.j\n",
      "  -0.71-0.j -0.59+0.j -0.45-0.j -0.31+0.j -0.16+0.j]]\n"
     ]
    }
   ],
   "source": [
    "ifft1 = np.around(np.fft.ifft(fft1),decimals=2)\n",
    "ifft2 = np.around(np.fft.ifft(fft2),decimals=2)\n",
    "ifft3 = np.around(np.fft.ifft(fft3),decimals=2)\n",
    "print(\"IFFT for 4 samples \\n{}\".format(ifft1))\n",
    "print(\"IFFT for 8 samples \\n{}\".format(ifft2))\n",
    "print(\"IFFT for 40 samples \\n{}\".format(ifft3))"
   ]
  },
  {
   "cell_type": "code",
   "execution_count": 41,
   "metadata": {
    "collapsed": false
   },
   "outputs": [
    {
     "name": "stdout",
     "output_type": "stream",
     "text": [
      "4 samples \n",
      "[ 0.  1.  0. -1.]\n",
      "8 samples \n",
      "[ 0.    0.71  1.    0.71  0.   -0.71 -1.   -0.71]\n",
      "40 samples \n",
      "[ 0.    0.16  0.31  0.45  0.59  0.71  0.81  0.89  0.95  0.99  1.    0.99\n",
      "  0.95  0.89  0.81  0.71  0.59  0.45  0.31  0.16  0.   -0.16 -0.31 -0.45\n",
      " -0.59 -0.71 -0.81 -0.89 -0.95 -0.99 -1.   -0.99 -0.95 -0.89 -0.81 -0.71\n",
      " -0.59 -0.45 -0.31 -0.16]\n"
     ]
    }
   ],
   "source": [
    "print(\"4 samples \\n{}\".format(np.around(y1)))\n",
    "print(\"8 samples \\n{}\".format(np.around(y2, decimals = 2)))\n",
    "print(\"40 samples \\n{}\".format(np.around(y3, decimals = 2)))"
   ]
  },
  {
   "cell_type": "markdown",
   "metadata": {},
   "source": [
    "We have proven so far that the above code is correct, so now it is time to experiment with more sophisticated examples.\n",
    "Try to explore following tranformations of basic sine signal:\n",
    "- adding constant expression\n",
    "- phase shift\n",
    "- modulation\n",
    "- adding another trig. function\n",
    "- combination of the above"
   ]
  },
  {
   "cell_type": "code",
   "execution_count": 97,
   "metadata": {
    "collapsed": false,
    "scrolled": true
   },
   "outputs": [
    {
     "name": "stdout",
     "output_type": "stream",
     "text": [
      "DFT for 100 samples \n",
      " [[ 256. +0.j   -4.-32.j    0. -2.j    0. -1.j    0. -1.j    0. -1.j\n",
      "     0. -0.j    0. -0.j    0. -0.j    0. -0.j    0. -0.j    0. -0.j\n",
      "     0. -0.j    0. -0.j    0. -0.j    0. -0.j    0. -0.j    0. -0.j\n",
      "     0. -0.j    0. -0.j    0. -0.j    0. -0.j    0. -0.j    0. -0.j\n",
      "     0. -0.j    0. -0.j    0. -0.j    0. -0.j    0. -0.j    0. -0.j\n",
      "     0. -0.j    0. -0.j    0. +0.j    0. +0.j    0. +0.j    0. +0.j\n",
      "     0. +0.j    0. +0.j    0. +0.j    0. +0.j    0. +0.j    0. +0.j\n",
      "     0. +0.j    0. +0.j    0. +0.j    0. +0.j    0. +0.j    0. +0.j\n",
      "     0. +0.j    0. +0.j    0. +0.j    0. +0.j    0. +0.j    0. +0.j\n",
      "     0. +0.j    0. +0.j    0. +0.j    0. +0.j    0. +0.j    0. +1.j\n",
      "     0. +1.j    0. +1.j    0. +2.j   -4.+32.j]]\n"
     ]
    }
   ],
   "source": [
    "N = 64\n",
    "x1 = np.linspace(0,4,N,endpoint=False) #some high frequency sampling\n",
    "y1 = np.array([np.sin(2*np.pi*0.25*x1) + 4])\n",
    "W1 = DFT(N)\n",
    "s_h1 = np.dot(W1,y1.transpose())\n",
    "print(\"DFT for 100 samples \\n {}\".format(np.around(s_h1.transpose())))"
   ]
  },
  {
   "cell_type": "markdown",
   "metadata": {},
   "source": [
    "So the only diffenece now is that we got 256 in first cell - you have probably by now realised that the more samples we put into\n",
    "DFT, the higher are non-zero values in output. To normalize that we must divide by N - our number of samples. See for yourself, \n",
    "that for each of the matrices we will get the same values if we divide by number of samples.\n",
    "\n",
    "\n",
    "Coming back to 256 - it is our DC constant - 256/N which is 256/64 = 5 - exactly as expected. Notice that it is just the sum of the samples, since they do have equal contribution to 0th harmonic.\n",
    "\n",
    "\n",
    "-32j, apart form symmetry is also fine - we got two of these so abs(Im(+-32j))/(2N) = 0.25 - 2N because the appear twice as conjugate pair. Why though?\n",
    "\n",
    "\n",
    "Let's see what happens when we change our function to cosine"
   ]
  },
  {
   "cell_type": "code",
   "execution_count": 138,
   "metadata": {
    "collapsed": false
   },
   "outputs": [
    {
     "name": "stdout",
     "output_type": "stream",
     "text": [
      "DFT for 100 samples \n",
      " [[ 256.+0.j   32.+0.j   -0.+0.j   -0.+0.j   -0.+0.j   -0.+0.j   -0.+0.j\n",
      "    -0.+0.j   -0.+0.j   -0.+0.j   -0.+0.j   -0.+0.j   -0.+0.j   -0.+0.j\n",
      "    -0.+0.j   -0.+0.j   -0.+0.j   -0.+0.j   -0.+0.j   -0.+0.j   -0.+0.j\n",
      "    -0.+0.j   -0.+0.j   -0.+0.j   -0.-0.j   -0.+0.j   -0.-0.j   -0.-0.j\n",
      "    -0.+0.j   -0.-0.j   -0.-0.j    0.-0.j   -0.+0.j   -0.-0.j   -0.+0.j\n",
      "    -0.-0.j   -0.-0.j    0.-0.j   -0.-0.j   -0.-0.j   -0.-0.j   -0.-0.j\n",
      "    -0.-0.j   -0.-0.j   -0.-0.j   -0.-0.j   -0.+0.j   -0.-0.j   -0.-0.j\n",
      "     0.-0.j   -0.-0.j   -0.-0.j   -0.-0.j   -0.-0.j   -0.-0.j   -0.-0.j\n",
      "    -0.-0.j   -0.-0.j   -0.-0.j   -0.-0.j   -0.-0.j   -0.-0.j   -0.-0.j\n",
      "    32.-0.j]]\n"
     ]
    }
   ],
   "source": [
    "N = 64\n",
    "x1 = np.linspace(0,4,N,endpoint=False) #some high frequency sampling\n",
    "y1 = np.array([np.cos(2*np.pi*0.25*x1) + 4])\n",
    "W1 = DFT(N)\n",
    "s_h1 = np.dot(W1,y1.transpose())\n",
    "print(\"DFT for 100 samples \\n {}\".format(np.around(s_h1.transpose())))"
   ]
  },
  {
   "cell_type": "markdown",
   "metadata": {},
   "source": [
    "Almost the same, with the exception of non-DC components being real now. \n",
    "Why it happens this way? To explain that phenomenon, we have to dive deeper into understanding of the discrete Fourier transform. What we really do when we perform the DFT?\n",
    "- we iterate over all k's\n",
    "- we sum over all n's for each k\n",
    "- for each element of the summation over n's we multiply by exp(-2*pi*/N)^(kn)\n",
    "\n",
    "\n",
    "Deal away with the first one - k is over step over frequency - we ask about each frequency step, that is - if we have N samples, we would ask about N different frequencies, right? They range from 0 to N-1, stepwise.\n",
    "\n",
    "\n",
    "Now comes the second one, we iterate over all n's to add the result of that thing in *the third dot*. In other words, we take each of our samples - that is n designates our sample number. \n",
    "\n",
    "\n",
    "The third dot explains it all and clarifies the second.\n",
    "\n",
    " \n",
    "Namely, we would ask each sample n for its contribution to a given frequency k, by validating if it is orthogonal to any of the base vectors in the linear space of N (we also take kn rotations of it).\n",
    "So the line:\n",
    "\n",
    " s(n) *x* exp(-2*pi*/N)^(kn)\n",
    " \n",
    "really tells us: *well, I have sample n, what would happen if I take scalar product with an orthogonal vector? I would have my sample n vector 'casted' on that orthogonal vector and have the measure of that 'cast' noted down - i.e. its contribution *I like to think about is as of a shadow being casted on another person, how much of that other person is covered in my shadow? No pun intended.\n",
    "\n",
    "Remember though! The s(n) vector is not s(n) in sense s(1) or s(412321231) and orthogonal vector is not *exp(-2*pi*/N)^(kn)* in sense of a particular value. Look at our W matrix - the orthogonal vectors are its rows (relatively columns) - these are our orthogonal vectors of space N! Global view is that we do scalar multiplication in L^2 space of vector s(n)*x*W(1:) which means, vector of all of our samples s(n) mulitplied by each row of W matrix (each row being orthogonal vector). What is that then? We build our spectrum of a signal by noting a contribution of samples upon each orthogonal vector. Put differently, we build our spectrum by having a linear combination in C^n space (if you have  *wait a moment* *linear combination is when I have some k*v1 + c*v2 + ... etc. feeling* then look that in reality we mulitply each column vector by the same constant - the nth sample - which is this standard linear combination).\n",
    "\n",
    "Time to explain the change in sine and cosine signals.\n",
    "\n",
    "Recall that - exp(i) is cos(x) + isin(x), so now it should be clear that if we build a sample from cosine, we would expect that it contriubutes only to real parts of *exp(-2*pi*/N)^(kn)* whereas sine to the complex parts. And that is what we get in our spectrum. The conjugate part comes from the fact that we could construct a vector -j and j in our orthogonal basis of C^n. Both of these would yield equal scalar product results (amplitude), however, the are also rotated by pi degrees, therefore the bring in the conjugate argument. Partially, this might explain the symmetry in real signal spectrum and asymmentry in complex one. Recall that multiplying two complex numbers results in adding two angles together in a complex space. Real numbers do not fiddle with angles of orthogonal basis - that is why we can see that symmetry."
   ]
  },
  {
   "cell_type": "code",
   "execution_count": 73,
   "metadata": {
    "collapsed": false
   },
   "outputs": [
    {
     "name": "stdout",
     "output_type": "stream",
     "text": [
      "DFT for 100 samples \n",
      " [[ 256.0000 +0.j   27.7128-16.j   -0.0000 +0.j   -0.0000 +0.j\n",
      "    -0.0000 +0.j   -0.0000 +0.j   -0.0000 +0.j   -0.0000 +0.j\n",
      "    -0.0000 +0.j   -0.0000 +0.j   -0.0000 +0.j   -0.0000 +0.j\n",
      "    -0.0000 +0.j   -0.0000 +0.j   -0.0000 +0.j   -0.0000 +0.j\n",
      "    -0.0000 +0.j   -0.0000 +0.j   -0.0000 +0.j   -0.0000 +0.j\n",
      "    -0.0000 +0.j   -0.0000 +0.j   -0.0000 +0.j   -0.0000 +0.j\n",
      "    -0.0000 +0.j   -0.0000 +0.j   -0.0000 -0.j   -0.0000 -0.j\n",
      "    -0.0000 +0.j   -0.0000 -0.j   -0.0000 -0.j    0.0000 -0.j\n",
      "    -0.0000 +0.j   -0.0000 -0.j   -0.0000 +0.j   -0.0000 -0.j\n",
      "    -0.0000 -0.j    0.0000 -0.j   -0.0000 -0.j   -0.0000 -0.j\n",
      "    -0.0000 -0.j   -0.0000 -0.j   -0.0000 -0.j   -0.0000 -0.j\n",
      "    -0.0000 -0.j   -0.0000 -0.j   -0.0000 +0.j   -0.0000 -0.j\n",
      "    -0.0000 -0.j    0.0000 -0.j   -0.0000 -0.j   -0.0000 -0.j\n",
      "    -0.0000 -0.j   -0.0000 -0.j   -0.0000 -0.j   -0.0000 -0.j\n",
      "    -0.0000 -0.j   -0.0000 -0.j   -0.0000 -0.j   -0.0000 -0.j\n",
      "    -0.0000 -0.j   -0.0000 -0.j    0.0000 -0.j   27.7128+16.j]]\n"
     ]
    }
   ],
   "source": [
    "N = 64\n",
    "x1 = np.linspace(0,4,N,endpoint=False) \n",
    "y1 = np.array([np.sin(2*np.pi*0.25*x1 + np.pi/3) + 4])\n",
    "W1 = DFT(N)\n",
    "s_h1 = np.dot(W1,y1.transpose())\n",
    "print(\"DFT for 100 samples \\n {}\".format(np.around(s_h1.transpose(), decimals = 4)))"
   ]
  },
  {
   "cell_type": "markdown",
   "metadata": {},
   "source": [
    "This might be more interesting. Why shifiting by some angle causes our so far purely complex of purely real values of our spectrum have both complex and real parts? As you perhaps have anticipated, it has something to do with this orthogonal contribution of sines and cosines. And you're right.\n",
    "\n",
    "This formula :\n",
    "- sin(α + β) = sin(α) cos(β) + cos(α) sin(β)\n",
    "\n",
    "explains pretty much what is happening - we got more complex expression, however, still being symmmetric somehow (ie. having one frequency of oscillation). If we set for example α for ( *2* *pi* *t* ) we find that it is a sum of two signals multiplied with some constant. However, since they both oscillate with the same frequency, they bring equal contribution only to that particular frequency but with changed amplitude. Let's see, normally, when we would sum sin and cos with the frequency we have above. I would expect:\n",
    "32 + j32 and 32 - j32. However we mulitply each by cos(pi/3) and sin(pi/3) so 1/2 and sqrt(3)/2 respectively, so sine contribution is multiplied by 1/2 (see the formula) and cosine contribution by sqrt(3)/2\n",
    "\n",
    "32*(1/2)* -+ j32*(sqrt(3)/2)* ~ 27.7128 + 16j (roughly)\n",
    "\n",
    "and that pretty much works out nicely."
   ]
  },
  {
   "cell_type": "code",
   "execution_count": 120,
   "metadata": {
    "collapsed": false
   },
   "outputs": [
    {
     "name": "stdout",
     "output_type": "stream",
     "text": [
      "DFT for 100 samples \n",
      " [[ 256. +0.j   -0. +0.j   -0.-16.j   -0. +0.j   -0. +0.j   -0. +0.j\n",
      "    -0. +0.j   -0. +0.j   -0. +0.j    0. +0.j   -0. +0.j   -0. +0.j\n",
      "    -0. +0.j   -0. +0.j   -0. +0.j    0. +0.j   -0. +0.j    0. +0.j\n",
      "    -0. +0.j   -0. +0.j   -0. +0.j   -0. +0.j   -0. +0.j   -0. +0.j\n",
      "    -0. +0.j   -0. +0.j   -0. -0.j   -0. -0.j   -0. +0.j   -0. -0.j\n",
      "    -0. -0.j    0. -0.j   -0. +0.j   -0. -0.j   -0. +0.j   -0. -0.j\n",
      "    -0. -0.j    0. +0.j   -0. -0.j   -0. -0.j   -0. -0.j   -0. -0.j\n",
      "    -0. -0.j   -0. -0.j   -0. -0.j   -0. -0.j   -0. +0.j   -0. -0.j\n",
      "    -0. -0.j    0. -0.j   -0. -0.j   -0. -0.j   -0. -0.j   -0. -0.j\n",
      "    -0. -0.j   -0. -0.j   -0. -0.j   -0. -0.j   -0. -0.j   -0. -0.j\n",
      "    -0. -0.j    0. -0.j   -0.+16.j   -0. -0.j]]\n"
     ]
    }
   ],
   "source": [
    "N = 64\n",
    "x1 = np.linspace(0,4,N,endpoint=False) \n",
    "y1 = np.array([np.sin(2*np.pi*0.25*x1)*np.cos(2*np.pi*0.25*x1) + 4])\n",
    "W1 = DFT(N)\n",
    "s_h1 = np.dot(W1,y1.transpose())\n",
    "print(\"DFT for 100 samples \\n {}\".format(np.around(s_h1.transpose(), decimals = 2)))"
   ]
  },
  {
   "cell_type": "markdown",
   "metadata": {},
   "source": [
    "Whoa, now something in our spectrum is shifted. Again, let's look at casual trigonometric formula:\n",
    "\n",
    "- sin(x)cos(y)= 0.5[sin(x+y)+sin(x−y)]. \n",
    "\n",
    "In our case, quick substitution and we see that we have sum of two sines, one oscillating with twice the frequency and second term being zero. Furthermore, the amplitude is halved. That is what we are seeing here. The cell of the spectrum is shifted by one - that implies that the signal is oscillating with the second overtone or harmonic in respect to our original signal. And its amplitude is half as big.\n",
    "See for yourself, by changing the first signal to cosine, that it is indeed true for cosine as well.\n",
    "If we would like to multiply two sines for instance, it would also change the DC component"
   ]
  },
  {
   "cell_type": "code",
   "execution_count": 84,
   "metadata": {
    "collapsed": false
   },
   "outputs": [
    {
     "name": "stdout",
     "output_type": "stream",
     "text": [
      "DFT for 100 samples \n",
      " [[ 256. +0.j   -0.-32.j   -0.-32.j    0. +0.j   -0. +0.j   -0. +0.j\n",
      "    -0. +0.j   -0. +0.j   -0. +0.j    0. +0.j   -0. +0.j   -0. +0.j\n",
      "    -0. +0.j   -0. +0.j   -0. +0.j    0. +0.j   -0. +0.j    0. +0.j\n",
      "    -0. +0.j   -0. +0.j   -0. +0.j   -0. +0.j   -0. +0.j   -0. +0.j\n",
      "    -0. +0.j   -0. +0.j   -0. -0.j   -0. -0.j   -0. +0.j   -0. -0.j\n",
      "    -0. -0.j    0. -0.j   -0. +0.j   -0. -0.j   -0. +0.j   -0. -0.j\n",
      "    -0. -0.j    0. +0.j   -0. -0.j   -0. -0.j   -0. -0.j   -0. -0.j\n",
      "    -0. -0.j   -0. -0.j   -0. -0.j   -0. -0.j   -0. +0.j   -0. -0.j\n",
      "    -0. -0.j   -0. -0.j   -0. -0.j   -0. -0.j    0. -0.j   -0. -0.j\n",
      "    -0. -0.j   -0. -0.j   -0. -0.j   -0. -0.j   -0. -0.j   -0. -0.j\n",
      "     0. -0.j    0. -0.j    0.+32.j   -0.+32.j]]\n"
     ]
    }
   ],
   "source": [
    "N = 64\n",
    "x1 = np.linspace(0,4,N,endpoint=False) \n",
    "y1 = np.array([np.sin(2*np.pi*0.25*x1) + np.sin(2*np.pi*0.5*x1) + 4])\n",
    "W1 = DFT(N)\n",
    "s_h1 = np.dot(W1,y1.transpose())\n",
    "print(\"DFT for 100 samples \\n {}\".format(np.around(s_h1.transpose(), decimals = 3)))"
   ]
  },
  {
   "cell_type": "markdown",
   "metadata": {},
   "source": [
    "Here we have confirmation of something we might have expected in previous example. Not to repeat myself - we have added a signal that oscillates with twice the frequency of the first one, hence the shift. It is complex because of the sine contribution. If we change to cosine, we would see the shifted cell to be purely real."
   ]
  },
  {
   "cell_type": "code",
   "execution_count": 93,
   "metadata": {
    "collapsed": false
   },
   "outputs": [
    {
     "name": "stdout",
     "output_type": "stream",
     "text": [
      "DFT for 100 samples \n",
      " [[ 261.4 +0.j    18.7-54.j    -3.8 +7.6j   -1.6 +3.8j   -1.1 +2.6j\n",
      "    -0.8 +2.j    -0.7 +1.6j   -0.7 +1.4j   -0.6 +1.2j   -0.6 +1.j\n",
      "    -0.6 +0.9j   -0.6 +0.8j   -0.5 +0.7j   -0.5 +0.6j   -0.5 +0.6j\n",
      "    -0.5 +0.5j   -0.5 +0.5j   -0.5 +0.4j   -0.5 +0.4j   -0.5 +0.4j\n",
      "    -0.5 +0.3j   -0.5 +0.3j   -0.5 +0.3j   -0.5 +0.2j   -0.5 +0.2j\n",
      "    -0.5 +0.2j   -0.5 +0.1j   -0.5 +0.1j   -0.5 +0.1j   -0.5 +0.1j\n",
      "    -0.5 +0.j    -0.5 +0.j    -0.5 +0.j    -0.5 -0.j    -0.5 -0.j\n",
      "    -0.5 -0.1j   -0.5 -0.1j   -0.5 -0.1j   -0.5 -0.1j   -0.5 -0.2j\n",
      "    -0.5 -0.2j   -0.5 -0.2j   -0.5 -0.3j   -0.5 -0.3j   -0.5 -0.3j\n",
      "    -0.5 -0.4j   -0.5 -0.4j   -0.5 -0.4j   -0.5 -0.5j   -0.5 -0.5j\n",
      "    -0.5 -0.6j   -0.5 -0.6j   -0.5 -0.7j   -0.6 -0.8j   -0.6 -0.9j\n",
      "    -0.6 -1.j    -0.6 -1.2j   -0.7 -1.4j   -0.7 -1.6j   -0.8 -2.j\n",
      "    -1.1 -2.6j   -1.6 -3.8j   -3.8 -7.6j   18.7+54.j ]]\n"
     ]
    }
   ],
   "source": [
    "N = 64\n",
    "x1 = np.linspace(0,4,N,endpoint=False) \n",
    "y1 = np.array([np.sin(2*np.pi*0.25*x1) + np.sin(2*np.pi*0.3*x1) + 4])\n",
    "W1 = DFT(N)\n",
    "s_h1 = np.dot(W1,y1.transpose())\n",
    "print(\"DFT for 100 samples \\n {}\".format(np.around(s_h1.transpose(), decimals = 1)))"
   ]
  },
  {
   "cell_type": "markdown",
   "metadata": {},
   "source": [
    "Ok, what had happened here seems more complicated to explain. But, step by step, it should become clear.\n",
    "What we have done here is applying the formlula :\n",
    "\n",
    "sin(x)+sin(y)=2sin(0.5(x+y))cos(0.5(x−y))\n",
    "\n",
    "Well, even the consant term has increased. What it really means is that by adding a signal that is not a reasonance multiple of the first one, we recursively add more and more contributions of sines and cosines of different frequencies, which would eventually lead to having some additional constant term. That is basically what we see here, looks like complete mess, but in reality it makes a lot of sense. Assume that our signal with frequency of 0.25Hz is *more important*, just an arbitrary pick.\n",
    "Then if I would like to make DFT of 64 which is a multiple of frequency of our more important signal and not a multilple of our less important signal. What I am trying to do is to squeze the less important signal into the base that only fits the signals that are integer multiple of 64. \n",
    "\n",
    "That operation results in losing a clear view of some of the innate features of the signal - it is sort of smeared out onto that orthogonal base. In other words we might put is as we have unsuitable base to compress the signal into frequency form - it does not mean that it won't work - it simply means that our base is not quite suited to view the signal spectrum in a human-readible form.\n",
    "\n",
    "See below, as I try to perform a simmilar operation."
   ]
  },
  {
   "cell_type": "code",
   "execution_count": 140,
   "metadata": {
    "collapsed": false
   },
   "outputs": [
    {
     "name": "stdout",
     "output_type": "stream",
     "text": [
      "DFT for 32 samples \n",
      " [[ 4.01063+0.j       0.12018-0.46103j -0.01510+0.05362j -0.01031+0.02862j\n",
      "  -0.00903+0.01968j -0.00849+0.01483j -0.00821+0.01169j -0.00805+0.00943j\n",
      "  -0.00794+0.0077j  -0.00787+0.0063j  -0.00783+0.00511j -0.00779+0.00408j\n",
      "  -0.00777+0.00316j -0.00775+0.00231j -0.00774+0.00151j -0.00774+0.00075j\n",
      "  -0.00773-0.j      -0.00774-0.00075j -0.00774-0.00151j -0.00775-0.00231j\n",
      "  -0.00777-0.00316j -0.00779-0.00408j -0.00783-0.00511j -0.00787-0.0063j\n",
      "  -0.00794-0.0077j  -0.00805-0.00943j -0.00821-0.01169j -0.00849-0.01483j\n",
      "  -0.00903-0.01968j -0.01031-0.02862j -0.01510-0.05362j  0.12018+0.46103j]]\n",
      "128.34023652\n"
     ]
    }
   ],
   "source": [
    "N = 32\n",
    "x1 = np.linspace(0,4,N,endpoint=False)\n",
    "y1 = np.array([np.sin(2*np.pi*0.27*x1) + 4])\n",
    "W1 = DFT(N)\n",
    "s_h1 = np.dot(W1,y1.transpose())/N\n",
    "print(\"DFT for {} samples \\n {}\".format(N, np.around(s_h1.transpose(), decimals=5)))\n",
    "print(np.sum(y1))"
   ]
  },
  {
   "cell_type": "markdown",
   "metadata": {},
   "source": [
    "So we see what happened here. The symmentry is still conserved, so it does not depend on the choice of our base. This again could be explained by having the signal decomposed and applying the formulas. But taking it more heuristically, we can look at our signal samples and see that it won't be purely orthogonal to any of the rotations of the orthogonal vector. Small complex and real contributions can be also explained by that. Wait a second ... \n",
    "\n",
    "I have previously said that sine should make a complex contribuiton... Yes and it is true, but notice that we had N = 64, so the sample vector was completely orthogonal to all but one of the rotations of the w vector (in particular -j and j), if that would be true, that means it would be just a scalar multiple of that vector making full contribution to that vector and none to the other. Furthermore, we have explained what multiple it would be previously. Now, none of the rotations of w vector yield scalar product of {1} with our sample vector, so it is not a scalar multiple of any of the vectors in W matrix. Therefore it needs all linear combinations of remaining vectors. It might have just happened that a particular complex contribution of sine is not exactly captured by the one of the rotations of w vector, making it more real that expected."
   ]
  },
  {
   "cell_type": "markdown",
   "metadata": {},
   "source": []
  }
 ],
 "metadata": {
  "kernelspec": {
   "display_name": "Python 3",
   "language": "python",
   "name": "python3"
  },
  "language_info": {
   "codemirror_mode": {
    "name": "ipython",
    "version": 3
   },
   "file_extension": ".py",
   "mimetype": "text/x-python",
   "name": "python",
   "nbconvert_exporter": "python",
   "pygments_lexer": "ipython3",
   "version": "3.6.0"
  }
 },
 "nbformat": 4,
 "nbformat_minor": 2
}
